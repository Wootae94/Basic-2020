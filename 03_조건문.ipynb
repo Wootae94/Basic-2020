{
 "cells": [
  {
   "cell_type": "markdown",
   "metadata": {},
   "source": [
    "# 조건문"
   ]
  },
  {
   "cell_type": "code",
   "execution_count": 4,
   "metadata": {},
   "outputs": [
    {
     "name": "stdout",
     "output_type": "stream",
     "text": [
      "정수 입력> -3\n"
     ]
    }
   ],
   "source": [
    "# 양수 판별\n",
    "n = int(input('정수 입력> '))"
   ]
  },
  {
   "cell_type": "code",
   "execution_count": 6,
   "metadata": {},
   "outputs": [
    {
     "name": "stdout",
     "output_type": "stream",
     "text": [
      "-3 은/는 0 또는 음수입니다.\n"
     ]
    }
   ],
   "source": [
    "if n > 0:\n",
    "    print('%d 은/는 양수입니다.' % n)\n",
    "else:\n",
    "    print('%d 은/는 0 또는 음수입니다.' % n)"
   ]
  },
  {
   "cell_type": "code",
   "execution_count": 7,
   "metadata": {},
   "outputs": [
    {
     "name": "stdout",
     "output_type": "stream",
     "text": [
      "필기 성적> 85\n",
      "실기 성적> 75\n"
     ]
    }
   ],
   "source": [
    "# 논리 곱\n",
    "score1 = int(input('필기 성적> '))\n",
    "score2 = int(input('실기 성적> '))"
   ]
  },
  {
   "cell_type": "code",
   "execution_count": 9,
   "metadata": {},
   "outputs": [
    {
     "name": "stdout",
     "output_type": "stream",
     "text": [
      "불합격!\n"
     ]
    }
   ],
   "source": [
    "if (score1 >= 80) and (score2 >= 80):\n",
    "    print('합격!')\n",
    "else:\n",
    "    print('불합격!')"
   ]
  },
  {
   "cell_type": "code",
   "execution_count": 15,
   "metadata": {},
   "outputs": [
    {
     "name": "stdout",
     "output_type": "stream",
     "text": [
      "이름 입력> James\n"
     ]
    }
   ],
   "source": [
    "# 논리 부정\n",
    "name = None\n",
    "name = input('이름 입력> ')"
   ]
  },
  {
   "cell_type": "code",
   "execution_count": 16,
   "metadata": {},
   "outputs": [
    {
     "name": "stdout",
     "output_type": "stream",
     "text": [
      "이름 : James\n"
     ]
    }
   ],
   "source": [
    "if not name:\n",
    "    print('이름이 입력되지 않았습니다.')\n",
    "else:\n",
    "    print('이름 : %s' % name)"
   ]
  },
  {
   "cell_type": "code",
   "execution_count": 21,
   "metadata": {},
   "outputs": [
    {
     "name": "stdout",
     "output_type": "stream",
     "text": [
      "정수 입력> 5\n"
     ]
    }
   ],
   "source": [
    "# 양수, 0, 음수 판별\n",
    "n = int(input('정수 입력> '))"
   ]
  },
  {
   "cell_type": "code",
   "execution_count": 22,
   "metadata": {},
   "outputs": [
    {
     "name": "stdout",
     "output_type": "stream",
     "text": [
      "5 은/는 양수입니다.\n"
     ]
    }
   ],
   "source": [
    "if n > 0:\n",
    "    print('%d 은/는 양수입니다.' % n)\n",
    "elif n == 0:\n",
    "    print('0 입니다.')\n",
    "else:\n",
    "    print('%d 은/는 음수입니다.' % n)"
   ]
  },
  {
   "cell_type": "code",
   "execution_count": 36,
   "metadata": {},
   "outputs": [
    {
     "name": "stdout",
     "output_type": "stream",
     "text": [
      "성적을 입력하세요. > 80\n"
     ]
    }
   ],
   "source": [
    "score = int(input('성적을 입력하세요. > '))"
   ]
  },
  {
   "cell_type": "code",
   "execution_count": 38,
   "metadata": {},
   "outputs": [
    {
     "name": "stdout",
     "output_type": "stream",
     "text": [
      "성적 = 80점\n",
      "등급 = B\n"
     ]
    }
   ],
   "source": [
    "if score >= 90 and score <= 100:\n",
    "    grade = 'A'\n",
    "elif score >= 80:\n",
    "    grade = 'B'\n",
    "elif score >= 70:\n",
    "    grade = 'C'\n",
    "elif score >= 60:\n",
    "    grade = 'D'\n",
    "else:\n",
    "    grade = 'F'\n",
    "print('성적 = %d점'% score)\n",
    "print('등급 = %s'% grade)"
   ]
  },
  {
   "cell_type": "code",
   "execution_count": 7,
   "metadata": {},
   "outputs": [
    {
     "name": "stdout",
     "output_type": "stream",
     "text": [
      "숫자> 12\n",
      "숫자> 57\n",
      "숫자> 43\n",
      "평균 = 37.333333\n"
     ]
    }
   ],
   "source": [
    "# 세 수의 합과 평균\n",
    "x = int(input('숫자> '))\n",
    "y = int(input('숫자> '))\n",
    "z = int(input('숫자> '))\n",
    "avg = (x+y+z)/3\n",
    "print('평균 = %f'%avg)"
   ]
  },
  {
   "cell_type": "code",
   "execution_count": 2,
   "metadata": {},
   "outputs": [
    {
     "name": "stdout",
     "output_type": "stream",
     "text": [
      "세 개의 숫자 입력> 50 63 51\n"
     ]
    }
   ],
   "source": [
    "x, y, z = input('세 개의 숫자 입력> ').split()"
   ]
  },
  {
   "cell_type": "code",
   "execution_count": 4,
   "metadata": {},
   "outputs": [
    {
     "data": {
      "text/plain": [
       "('50', '63', '51')"
      ]
     },
     "execution_count": 4,
     "metadata": {},
     "output_type": "execute_result"
    }
   ],
   "source": [
    "x, y, z"
   ]
  },
  {
   "cell_type": "code",
   "execution_count": 5,
   "metadata": {},
   "outputs": [
    {
     "data": {
      "text/plain": [
       "(50, 63, 51)"
      ]
     },
     "execution_count": 5,
     "metadata": {},
     "output_type": "execute_result"
    }
   ],
   "source": [
    "int(x), int(y), int(z)"
   ]
  },
  {
   "cell_type": "code",
   "execution_count": 8,
   "metadata": {},
   "outputs": [
    {
     "name": "stdout",
     "output_type": "stream",
     "text": [
      "세 개의 숫자 입력> 35 46 76\n"
     ]
    },
    {
     "data": {
      "text/plain": [
       "(35, 46, 76)"
      ]
     },
     "execution_count": 8,
     "metadata": {},
     "output_type": "execute_result"
    }
   ],
   "source": [
    "x, y, z = map(int, input('세 개의 숫자 입력> ').split())\n",
    "x, y, z"
   ]
  },
  {
   "cell_type": "code",
   "execution_count": 9,
   "metadata": {},
   "outputs": [
    {
     "data": {
      "text/plain": [
       "(157, 52.333333333333336)"
      ]
     },
     "execution_count": 9,
     "metadata": {},
     "output_type": "execute_result"
    }
   ],
   "source": [
    "sum = x + y + z\n",
    "avg = sum / 3\n",
    "sum, avg"
   ]
  },
  {
   "cell_type": "code",
   "execution_count": 6,
   "metadata": {},
   "outputs": [],
   "source": [
    "# 만 나이 계산\n",
    "current_year = 2020\n",
    "current_month = 8\n",
    "current_day = 28"
   ]
  },
  {
   "cell_type": "code",
   "execution_count": 7,
   "metadata": {},
   "outputs": [
    {
     "name": "stdout",
     "output_type": "stream",
     "text": [
      "생년월일을 입력해주세요> 1994 8 27\n"
     ]
    },
    {
     "data": {
      "text/plain": [
       "(1994, 8, 27)"
      ]
     },
     "execution_count": 7,
     "metadata": {},
     "output_type": "execute_result"
    }
   ],
   "source": [
    "b_year, b_month, b_day = map(int,input('생년월일을 입력해주세요> ').split())\n",
    "b_year, b_month, b_day"
   ]
  },
  {
   "cell_type": "code",
   "execution_count": 8,
   "metadata": {},
   "outputs": [
    {
     "name": "stdout",
     "output_type": "stream",
     "text": [
      "26\n"
     ]
    }
   ],
   "source": [
    "if current_month > b_month:\n",
    "    age = current_year - b_year\n",
    "elif current_month < b_month:\n",
    "    age = current_year - b_year - 1\n",
    "elif current_day < b_day:\n",
    "    age = current_year - b_year - 1\n",
    "else:\n",
    "    age = current_year - b_year\n",
    "print(age)"
   ]
  },
  {
   "cell_type": "code",
   "execution_count": 10,
   "metadata": {},
   "outputs": [
    {
     "name": "stdout",
     "output_type": "stream",
     "text": [
      "26\n"
     ]
    }
   ],
   "source": [
    "if current_month > b_month:                   # 현재월 > 생월\n",
    "    age = current_year - b_year\n",
    "elif current_month < b_month:                 # 현재월 < 생월\n",
    "    age = current_year - b_year - 1\n",
    "else:                                         # 현재월 == 생월\n",
    "    if current_day < b_day:                      # 현재일 < 생일\n",
    "        age = current_year - b_year - 1          \n",
    "    else:                                        # 현재일 >= 생일\n",
    "        age = current_year - b_year\n",
    "\n",
    "\n",
    "print(age)"
   ]
  },
  {
   "cell_type": "code",
   "execution_count": 11,
   "metadata": {},
   "outputs": [
    {
     "data": {
      "text/plain": [
       "datetime.datetime(2020, 8, 28, 11, 16, 24, 397282)"
      ]
     },
     "execution_count": 11,
     "metadata": {},
     "output_type": "execute_result"
    }
   ],
   "source": [
    "# 파이썬 datetime 모듈 활용\n",
    "import datetime\n",
    "datetime.datetime.now()"
   ]
  },
  {
   "cell_type": "code",
   "execution_count": 12,
   "metadata": {},
   "outputs": [
    {
     "data": {
      "text/plain": [
       "(2020, 8, 28)"
      ]
     },
     "execution_count": 12,
     "metadata": {},
     "output_type": "execute_result"
    }
   ],
   "source": [
    "current_year = datetime.datetime.now().year\n",
    "current_month = datetime.datetime.now().month\n",
    "current_day = datetime.datetime.now().day\n",
    "current_year, current_month, current_day"
   ]
  },
  {
   "cell_type": "code",
   "execution_count": 13,
   "metadata": {},
   "outputs": [
    {
     "name": "stdout",
     "output_type": "stream",
     "text": [
      "생년월일을 입력해주세요> 2000 10 23\n"
     ]
    },
    {
     "data": {
      "text/plain": [
       "(2000, 10, 23)"
      ]
     },
     "execution_count": 13,
     "metadata": {},
     "output_type": "execute_result"
    }
   ],
   "source": [
    "b_year, b_month, b_day = map(int,input('생년월일을 입력해주세요> ').split())\n",
    "b_year, b_month, b_day"
   ]
  },
  {
   "cell_type": "code",
   "execution_count": 14,
   "metadata": {},
   "outputs": [
    {
     "name": "stdout",
     "output_type": "stream",
     "text": [
      "19\n"
     ]
    }
   ],
   "source": [
    "if current_month > b_month:                   # 현재월 > 생월\n",
    "    age = current_year - b_year\n",
    "elif current_month < b_month:                 # 현재월 < 생월\n",
    "    age = current_year - b_year - 1\n",
    "else:                                         # 현재월 == 생월\n",
    "    if current_day < b_day:                      # 현재일 < 생일\n",
    "        age = current_year - b_year - 1          \n",
    "    else:                                        # 현재일 >= 생일\n",
    "        age = current_year - b_year\n",
    "\n",
    "\n",
    "print(age)"
   ]
  },
  {
   "cell_type": "code",
   "execution_count": null,
   "metadata": {},
   "outputs": [],
   "source": [
    "# 생년월일 6자리 숫자로 처리하기"
   ]
  },
  {
   "cell_type": "code",
   "execution_count": 3,
   "metadata": {},
   "outputs": [
    {
     "name": "stdout",
     "output_type": "stream",
     "text": [
      "생년월일 6자리를 입력해주세요> 940414\n"
     ]
    },
    {
     "data": {
      "text/plain": [
       "(1994, 4, 14)"
      ]
     },
     "execution_count": 3,
     "metadata": {},
     "output_type": "execute_result"
    }
   ],
   "source": [
    "birthday = input('생년월일 6자리를 입력해주세요> ')\n",
    "b_year = int(birthday[:2])\n",
    "if b_year < 20:\n",
    "        b_year += 2000\n",
    "else:\n",
    "        b_year += 1900\n",
    "b_month = int(birthday[2:4])\n",
    "b_day = int(birthday[4:])\n",
    "b_year, b_month, b_day"
   ]
  },
  {
   "cell_type": "code",
   "execution_count": 13,
   "metadata": {},
   "outputs": [
    {
     "name": "stdout",
     "output_type": "stream",
     "text": [
      "생년월일을 입력해주세요> 199404141\n",
      "6~8 자리의 숫자를 입력하세요.\n",
      "1994 4 14\n"
     ]
    }
   ],
   "source": [
    "# 생일 처리하기\n",
    "birthday = input('생년월일을 입력해주세요> ')\n",
    "if len(birthday) == 8:\n",
    "    b_year = int(birthday[:4])\n",
    "    b_month = int(birthday[4:6])\n",
    "    b_day = int(birthday[6:])\n",
    "elif len(birthday) == 6:\n",
    "    b_year = int(birthday[:2])\n",
    "    if b_year < 20:\n",
    "        b_year += 2000\n",
    "    else:\n",
    "        b_year += 1900\n",
    "    b_month = int(birthday[2:4])\n",
    "    b_day = int(birthday[4:])\n",
    "elif len(birthday) == 7:\n",
    "    b_year = int(birthday[:2])\n",
    "    if int(birthday[-1]) < 2:\n",
    "        b_year += 1900\n",
    "    else:\n",
    "        b_year += 2000\n",
    "    b_month = int(birthday[2:4])\n",
    "    b_day = int(birthday[4:6])\n",
    "else:\n",
    "    print('6~8 자리의 숫자를 입력하세요.')\n",
    "    \n",
    "print(b_year, b_month, b_day)\n",
    "\n",
    "    "
   ]
  },
  {
   "cell_type": "code",
   "execution_count": 12,
   "metadata": {},
   "outputs": [
    {
     "name": "stdout",
     "output_type": "stream",
     "text": [
      "월을 입력하세요.> 2\n",
      "2 월은 겨울입니다.\n"
     ]
    }
   ],
   "source": [
    "# 연습문제\n",
    "## Q - 1 if~구문으로 월을 입력받아서 계절 표시\n",
    "month = int(input('월을 입력하세요.> '))\n",
    "\n",
    "if month >= 3 and month <= 5:\n",
    "    print('%d 월은 봄입니다.'% month)\n",
    "elif month >= 6 and month <= 8:\n",
    "    print('%d 월은 여름입니다.'% month)\n",
    "elif month >= 9 and month <= 11:\n",
    "    print('%d 월은 가을입니다.'% month)\n",
    "else:\n",
    "    print('%d 월은 겨울입니다.'% month)\n"
   ]
  },
  {
   "cell_type": "code",
   "execution_count": 18,
   "metadata": {},
   "outputs": [
    {
     "name": "stdout",
     "output_type": "stream",
     "text": [
      "좌석의 종류를 입력해주세요. (1: 일반실, 2: 특실)1\n",
      "일반실 입니다.\n"
     ]
    }
   ],
   "source": [
    "## Q - 2 if~ 구문으로 숫자로 열차 좌석 판별\n",
    "a = int(input('좌석의 종류를 입력해주세요. (1: 일반실, 2: 특실)'))\n",
    "\n",
    "seat1 = '일반실'\n",
    "seat2 = '특실'\n",
    "\n",
    "if a == 1:\n",
    "    print('%s 입니다.'%seat1)\n",
    "if a == 2:\n",
    "    print('%s 입니다.'%seat2)"
   ]
  },
  {
   "cell_type": "code",
   "execution_count": 25,
   "metadata": {},
   "outputs": [
    {
     "name": "stdout",
     "output_type": "stream",
     "text": [
      "숫자를 입력하세요.> 20\n",
      "20 은(는) 4와 5의 배수입니다.\n"
     ]
    }
   ],
   "source": [
    "## Q - 3 if~ 구문으로 4의 배수/5의 배수 판별하기\n",
    "\n",
    "Number = int(input('숫자를 입력하세요.> '))\n",
    "\n",
    "if Number % 4 == 0 and Number % 5 == 0:\n",
    "    print('%d 은(는) 4와 5의 배수입니다.'%Number)\n",
    "elif Number % 5 == 0:\n",
    "    print('%d 은(는) 5의 배수입니다.'%Number)\n",
    "elif Number % 4 == 0:\n",
    "    print('%d 은(는) 4의 배수입니다.'%Number)\n",
    "else:\n",
    "    print('%d 은(는) 4의 배수도 5의 배수도 아닙니다.'%Number)"
   ]
  },
  {
   "cell_type": "code",
   "execution_count": 3,
   "metadata": {},
   "outputs": [
    {
     "name": "stdout",
     "output_type": "stream",
     "text": [
      "영어 알파벳을 입력하세요.> W\n",
      "W 은(는) 자음이다.\n"
     ]
    }
   ],
   "source": [
    "char = input('영어 알파벳을 입력하세요.> ')\n",
    "char2 = char.upper()\n",
    "\n",
    "if char2 == 'A' or char2 =='E' or char2 =='I' or char2 =='O'or char2 =='U':\n",
    "    print('%s 은(는) 모음이다.'%char)\n",
    "else:\n",
    "    print('%s 은(는) 자음이다.'%char)"
   ]
  },
  {
   "cell_type": "code",
   "execution_count": 4,
   "metadata": {},
   "outputs": [
    {
     "name": "stdout",
     "output_type": "stream",
     "text": [
      "키를 입력해주세요.> 173\n",
      "몸무게를 입력해주세요.> 81\n",
      "------------------------------\n",
      "키 : 173cm\n",
      "몸무게 : 81kg\n",
      "딱 보기 좋습니다.\n",
      "------------------------------\n"
     ]
    }
   ],
   "source": [
    "height = int(input('키를 입력해주세요.> '))\n",
    "weight = int(input('몸무게를 입력해주세요.> '))\n",
    "a = (height - 100) * 0.9\n",
    "print('-'*30)\n",
    "print('키 : %dcm'%height)\n",
    "print('몸무게 : %dkg'%weight)\n",
    "\n",
    "if weight > a:\n",
    "    print('딱 보기 좋습니다.')\n",
    "else:\n",
    "    print('표준(또는 마른)체형입니다.')\n",
    "    \n",
    "print('-'*30)\n",
    "    "
   ]
  },
  {
   "cell_type": "code",
   "execution_count": null,
   "metadata": {},
   "outputs": [],
   "source": []
  }
 ],
 "metadata": {
  "kernelspec": {
   "display_name": "Python 3",
   "language": "python",
   "name": "python3"
  },
  "language_info": {
   "codemirror_mode": {
    "name": "ipython",
    "version": 3
   },
   "file_extension": ".py",
   "mimetype": "text/x-python",
   "name": "python",
   "nbconvert_exporter": "python",
   "pygments_lexer": "ipython3",
   "version": "3.8.3"
  }
 },
 "nbformat": 4,
 "nbformat_minor": 4
}
