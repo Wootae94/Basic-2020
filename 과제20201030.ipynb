{
 "cells": [
  {
   "cell_type": "code",
   "execution_count": 5,
   "metadata": {},
   "outputs": [
    {
     "name": "stdout",
     "output_type": "stream",
     "text": [
      "1~10사이 숫자 두 개 입력> 7 5\n",
      "too low\n"
     ]
    }
   ],
   "source": [
    "# 4-1 1~10 사이의 숫자를 선택해서 secret 과 guess\n",
    "# if,elif,els이용해서 guess secret비교  /<too low />too high /= just right\n",
    "secret,guess = map(int,input('1~10사이 숫자 두 개 입력> ').split())\n",
    "if secret>guess:\n",
    "    print('too low')\n",
    "elif secret<guess:\n",
    "    print('too high')\n",
    "else: print('just right')"
   ]
  },
  {
   "cell_type": "code",
   "execution_count": 8,
   "metadata": {},
   "outputs": [
    {
     "name": "stdout",
     "output_type": "stream",
     "text": [
      "cherry\n"
     ]
    }
   ],
   "source": [
    "# 4-2 True나 False를 small과 green\n",
    "# cherry, pea, watermelon, pumpkin\n",
    "small = True\n",
    "green = False\n",
    "if small:\n",
    "    if green:\n",
    "        print('pea')\n",
    "    else: print('cherry')\n",
    "else:\n",
    "    if green:\n",
    "        print('watermelon')\n",
    "    else: print('pumpkin')"
   ]
  },
  {
   "cell_type": "code",
   "execution_count": 51,
   "metadata": {},
   "outputs": [
    {
     "name": "stdout",
     "output_type": "stream",
     "text": [
      "When an eel grabs your arm, And it causes great harm, That's - a Moray! "
     ]
    }
   ],
   "source": [
    "# 5-1 m으로 시작하는 단어를 대문자로\n",
    "song = \"\"\"When an eel grabs your arm,\n",
    "    And it causes great harm,\n",
    "    That's - a moray!\"\"\"\n",
    "for t in song.split():\n",
    "    if t.startswith('m'):\n",
    "        print(t.title(),end=\" \")\n",
    "    else: print(t, end=\" \")"
   ]
  },
  {
   "cell_type": "code",
   "execution_count": 64,
   "metadata": {},
   "outputs": [
    {
     "name": "stdout",
     "output_type": "stream",
     "text": [
      "Q: We don't serve strings around here. Are you a string?\n",
      "A: An exploding sheep.\n",
      "Q: What is said on Father's Day in the forest?\n",
      "A: No, I'm a frayed knot.\n",
      "Q: What makes the sound 'Sis! Boom! Bah!'?\n",
      "A: 'Pop!' goes the weasel\n"
     ]
    }
   ],
   "source": [
    "# 5-2\n",
    "questions = [\n",
    "    \"We don't serve strings around here. Are you a string?\",\n",
    "    \"What is said on Father's Day in the forest?\",\n",
    "    \"What makes the sound 'Sis! Boom! Bah!'?\"\n",
    "]\n",
    "answers = [\n",
    "    \"An exploding sheep.\",\n",
    "    \"No, I'm a frayed knot.\",\n",
    "    \"'Pop!' goes the weasel\"\n",
    "]\n",
    "for i in range(3):\n",
    "    print('Q: ' + questions[i])\n",
    "    print('A: ' + answers[i])\n",
    "        \n"
   ]
  },
  {
   "cell_type": "code",
   "execution_count": 73,
   "metadata": {},
   "outputs": [
    {
     "name": "stdout",
     "output_type": "stream",
     "text": [
      "My kitty cat liskes roast beef,\n",
      "My kitty cat liskes ham,\n",
      "My kitty cat fell on his head And now thinks he's a clam.\n",
      "\n"
     ]
    }
   ],
   "source": [
    "# 5-3 문자열 'roast beef', 'ham', 'head', 'clam' 을 옛 스타일 포매팅.\n",
    "print(\"\"\"My kitty cat liskes %s,\n",
    "My kitty cat liskes %s,\n",
    "My kitty cat fell on his %s And now thinks he's a %s.\n",
    "\"\"\"%('roast beef', 'ham', 'head', 'clam'))"
   ]
  },
  {
   "cell_type": "code",
   "execution_count": 80,
   "metadata": {},
   "outputs": [
    {
     "name": "stdout",
     "output_type": "stream",
     "text": [
      "\n",
      "    Dear friendly TW,\n",
      "\n",
      "    Thank you for your letter. We are sorry that our tableproblem in your \n",
      "802. Please note that it should never be used in a 802,especially near any\n",
      "cat.\n",
      "\n",
      "    Send us your receipt and $100 for shipping and handling. We will send you\n",
      "another table that, in our tests, is 50% less likely to have problem.\n",
      "\n",
      "    Thank you for your support.\n",
      "    Sincerely,\n",
      "    Kim\n",
      "    chairman\n"
     ]
    }
   ],
   "source": [
    "# 5-4 포매팅 이용 메일\n",
    "letter = \"\"\"\n",
    "    Dear {0[salutation]} {0[name]},\n",
    "\n",
    "    Thank you for your letter. We are sorry that our {0[product]}{0[verbed]} in your \n",
    "{0[room]}. Please note that it should never be used in a {0[room]},especially near any\n",
    "{0[animals]}.\n",
    "\n",
    "    Send us your receipt and {0[amount]} for shipping and handling. We will send you\n",
    "another {0[product]} that, in our tests, is {0[percent]}% less likely to have {0[verbed]}.\n",
    "\n",
    "    Thank you for your support.\n",
    "    Sincerely,\n",
    "    {0[spokesman]}\n",
    "    {0[job_title]}\"\"\"\n",
    "\n",
    "response = {'salutation':'friendly',\n",
    "             'name':'TW',\n",
    "             'product':'table',\n",
    "             'verbed':'problem',\n",
    "             'room':'802',\n",
    "             'animals':'cat',\n",
    "             'amount':'$100',\n",
    "             'percent':50,\n",
    "             'spokesman':'Kim',\n",
    "             'job_title':'chairman'}\n",
    "print(letter.format(response))"
   ]
  },
  {
   "cell_type": "code",
   "execution_count": 90,
   "metadata": {},
   "outputs": [
    {
     "name": "stdout",
     "output_type": "stream",
     "text": [
      "Ducky McDuckface\n",
      "Gourdy McGourdface\n",
      "Spitzy McSpitzface\n"
     ]
    }
   ],
   "source": [
    "# 5-6 an English submarine 이름 Boaty McBoatface\n",
    "# an Australian racehouse 이름 Horsey McHorseface\n",
    "# a Swedish train 이름 Trainy McTrainface\n",
    "str = ['duck','gourd','spitz']\n",
    "for s in str:\n",
    "    print(('%sy Mc%sface')%(s.title(),s.title()))\n"
   ]
  },
  {
   "cell_type": "code",
   "execution_count": 2,
   "metadata": {},
   "outputs": [
    {
     "name": "stdout",
     "output_type": "stream",
     "text": [
      "Ducky McDuckface\n",
      "Gourdy McGourdface\n",
      "Spitzy McSpitzface\n"
     ]
    }
   ],
   "source": [
    "# 5-7 format() 매소드로 5-6\n",
    "arr = ['duck','gourd','spitz']\n",
    "for e in arr:\n",
    "    print(('{name}y Mc{name}face').format(name=e.title()))"
   ]
  },
  {
   "cell_type": "code",
   "execution_count": 4,
   "metadata": {},
   "outputs": [
    {
     "name": "stdout",
     "output_type": "stream",
     "text": [
      "Ducky McDuckface\n",
      "Gourdy McGourdface\n",
      "Spitzy McSpitzface\n"
     ]
    }
   ],
   "source": [
    "# 5-8 f-문자열로 5-6\n",
    "arr = ['duck','gourd','spitz']\n",
    "for e in arr:\n",
    "    name = e.title()\n",
    "    print(f'{name}y Mc{name}face')"
   ]
  },
  {
   "cell_type": "code",
   "execution_count": null,
   "metadata": {},
   "outputs": [],
   "source": []
  }
 ],
 "metadata": {
  "kernelspec": {
   "display_name": "Python 3",
   "language": "python",
   "name": "python3"
  },
  "language_info": {
   "codemirror_mode": {
    "name": "ipython",
    "version": 3
   },
   "file_extension": ".py",
   "mimetype": "text/x-python",
   "name": "python",
   "nbconvert_exporter": "python",
   "pygments_lexer": "ipython3",
   "version": "3.8.3"
  }
 },
 "nbformat": 4,
 "nbformat_minor": 4
}
