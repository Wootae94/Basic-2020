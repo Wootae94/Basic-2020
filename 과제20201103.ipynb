{
 "cells": [
  {
   "cell_type": "code",
   "execution_count": 18,
   "metadata": {},
   "outputs": [
    {
     "name": "stdout",
     "output_type": "stream",
     "text": [
      "양의 정수> 10\n",
      "제곱의 합> 385 합의 제곱>  55\n"
     ]
    }
   ],
   "source": [
    "#1. 양의 정수 N을 입력으로 받아 1부터 N까지 제곱의 합과\n",
    "#   합의 제곱을 구하시오.\n",
    "N = int(input('양의 정수> '))\n",
    "def get_sqsum_sumsq(N):\n",
    "    sqsum = 0\n",
    "    for i in range(1,N+1):\n",
    "        sqsum += i*i\n",
    "    sumsq = int((1+N)*N/2)\n",
    "    print('제곱의 합>', sqsum,'합의 제곱> ',sumsq)\n",
    "get_sqsum_sumsq(N)"
   ]
  },
  {
   "cell_type": "code",
   "execution_count": 1,
   "metadata": {},
   "outputs": [
    {
     "name": "stdout",
     "output_type": "stream",
     "text": [
      "200 375 425\n"
     ]
    }
   ],
   "source": [
    "#2. a + b + c = 1000 인 피타고라스 수를 구하시오.\n",
    "#  즉, a*a + b*b = c*c 을 만족하고\n",
    "#  a < b < c 이고, a + b > c 이다.\n",
    "\n",
    "for c in range(1,500):\n",
    "    for b in range(1,c):\n",
    "        for a in range(1,b):\n",
    "            if a + b + c == 1000 and a*a + b*b == c*c:\n",
    "                    print(a,b,c)"
   ]
  },
  {
   "cell_type": "code",
   "execution_count": 14,
   "metadata": {},
   "outputs": [
    {
     "name": "stdout",
     "output_type": "stream",
     "text": [
      "29700\n"
     ]
    }
   ],
   "source": [
    "# 3. 디지털 시계에 하루동안(00:00~23:59) 3이 표시되는 시간을 \n",
    "#    초로 환산하면 총 몇 초(second) 인가?\n",
    "s = 0\n",
    "for h in range(0,24):\n",
    "    for m in range(1,61):\n",
    "        if '3' in str(h) or '3' in str(m):\n",
    "             s += 60\n",
    "print(s)"
   ]
  },
  {
   "cell_type": "code",
   "execution_count": 27,
   "metadata": {},
   "outputs": [
    {
     "name": "stdout",
     "output_type": "stream",
     "text": [
      "{'1': 301, '2': 300, '3': 300, '4': 300, '5': 300, '6': 300, '7': 300, '8': 300, '9': 300, '0': 192}\n"
     ]
    }
   ],
   "source": [
    "# 4. 1에서 1000까지 각 숫자의 갯수를 구하시오.\n",
    "#   예) 10 ~ 15\n",
    "#       10 => 1, 0\n",
    "#       11 => 1, 1\n",
    "#       12 => 1, 2\n",
    "#       13 => 1, 3\n",
    "#       14 => 1, 4\n",
    "#       15 => 1, 5\n",
    "#    즉, 0: 1개, 1: 7개, 2: 1개, 3: 1개, 4: 1개, 5: 1개\n",
    "num_list = []\n",
    "for num in range(1,1001):\n",
    "    num_list +=list(str(num))\n",
    "num_dic = {}\n",
    "for num in num_list:\n",
    "    if num in num_dic.keys():\n",
    "        num_dic[num] += 1\n",
    "    else:\n",
    "        num_dic.update({num:1})\n",
    "print(num_dic)"
   ]
  },
  {
   "cell_type": "code",
   "execution_count": 36,
   "metadata": {},
   "outputs": [
    {
     "name": "stdout",
     "output_type": "stream",
     "text": [
      "836 698896\n"
     ]
    }
   ],
   "source": [
    "# 5. 세자리 수를 곱해 만들 수 있는 가장 큰 대칭수(palindrome)와\n",
    "#    세자리 수를 구하시오.\n",
    "#    단, 대칭수는 12321과 같은 수를 의미함.\n",
    "def is_palindrome(num):\n",
    "    if len(num)<2:\n",
    "        return True\n",
    "    if num[0] != num[-1]:\n",
    "        return False\n",
    "    return is_palindrome(num[1:-1])\n",
    "x = 0\n",
    "y = 0\n",
    "for num in range(1,1000):\n",
    "    if is_palindrome(str(num*num)) == True:\n",
    "        if num>x:\n",
    "            x = num\n",
    "            y = num*num\n",
    "print(x,y)"
   ]
  },
  {
   "cell_type": "code",
   "execution_count": null,
   "metadata": {},
   "outputs": [],
   "source": []
  }
 ],
 "metadata": {
  "kernelspec": {
   "display_name": "Python 3",
   "language": "python",
   "name": "python3"
  },
  "language_info": {
   "codemirror_mode": {
    "name": "ipython",
    "version": 3
   },
   "file_extension": ".py",
   "mimetype": "text/x-python",
   "name": "python",
   "nbconvert_exporter": "python",
   "pygments_lexer": "ipython3",
   "version": "3.8.3"
  }
 },
 "nbformat": 4,
 "nbformat_minor": 4
}
