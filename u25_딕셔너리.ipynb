{
 "cells": [
  {
   "cell_type": "markdown",
   "metadata": {},
   "source": [
    "# Unit 25. 딕셔너리 응용하기"
   ]
  },
  {
   "cell_type": "code",
   "execution_count": 2,
   "metadata": {},
   "outputs": [
    {
     "data": {
      "text/plain": [
       "{'a': 10, 'b': 20, 'c': 30, 'd': 40, 'e': None}"
      ]
     },
     "execution_count": 2,
     "metadata": {},
     "output_type": "execute_result"
    }
   ],
   "source": [
    "x = {'a':10, 'b':20, 'c':30, 'd':40}\n",
    "x.setdefault('e')\n",
    "x"
   ]
  },
  {
   "cell_type": "code",
   "execution_count": 4,
   "metadata": {},
   "outputs": [
    {
     "data": {
      "text/plain": [
       "{'a': 10, 'b': 20, 'c': 30, 'd': 40, 'e': None, 'f': 100}"
      ]
     },
     "execution_count": 4,
     "metadata": {},
     "output_type": "execute_result"
    }
   ],
   "source": [
    "x.setdefault('f',100)\n",
    "x"
   ]
  },
  {
   "cell_type": "code",
   "execution_count": 5,
   "metadata": {},
   "outputs": [
    {
     "data": {
      "text/plain": [
       "{'a': 10, 'b': 20, 'c': 30, 'd': 40, 'e': 50, 'f': 100}"
      ]
     },
     "execution_count": 5,
     "metadata": {},
     "output_type": "execute_result"
    }
   ],
   "source": [
    "# 값을 변경 혹은 추가\n",
    "# 키값이 문자열일때\n",
    "x.update(e = 50)\n",
    "x"
   ]
  },
  {
   "cell_type": "code",
   "execution_count": 6,
   "metadata": {},
   "outputs": [
    {
     "data": {
      "text/plain": [
       "{'a': 900, 'b': 20, 'c': 30, 'd': 40, 'e': 50, 'f': 60}"
      ]
     },
     "execution_count": 6,
     "metadata": {},
     "output_type": "execute_result"
    }
   ],
   "source": [
    "x.update(a=900, f=60)\n",
    "x"
   ]
  },
  {
   "cell_type": "code",
   "execution_count": 7,
   "metadata": {},
   "outputs": [
    {
     "data": {
      "text/plain": [
       "{1: 'ONE', 2: 'two', 3: 'THREE'}"
      ]
     },
     "execution_count": 7,
     "metadata": {},
     "output_type": "execute_result"
    }
   ],
   "source": [
    "# 키값이 문자열이 아닐 때\n",
    "y = {1: 'one', 2: 'two'}\n",
    "y.update({1: 'ONE', 3: 'THREE'})\n",
    "y"
   ]
  },
  {
   "cell_type": "code",
   "execution_count": 9,
   "metadata": {},
   "outputs": [
    {
     "data": {
      "text/plain": [
       "{1: 'ONE', 2: 'Two', 3: 'THREE', 4: 'Four'}"
      ]
     },
     "execution_count": 9,
     "metadata": {},
     "output_type": "execute_result"
    }
   ],
   "source": [
    "y.update([[2, 'Two'],[4, 'Four']])\n",
    "y"
   ]
  },
  {
   "cell_type": "code",
   "execution_count": 10,
   "metadata": {},
   "outputs": [
    {
     "data": {
      "text/plain": [
       "{1: 'one', 2: 'two', 3: 'THREE', 4: 'Four'}"
      ]
     },
     "execution_count": 10,
     "metadata": {},
     "output_type": "execute_result"
    }
   ],
   "source": [
    "y.update(zip([1, 2], ['one', 'two']))\n",
    "y"
   ]
  },
  {
   "cell_type": "code",
   "execution_count": 11,
   "metadata": {},
   "outputs": [
    {
     "data": {
      "text/plain": [
       "({'b': 20, 'c': 30, 'd': 40}, 10)"
      ]
     },
     "execution_count": 11,
     "metadata": {},
     "output_type": "execute_result"
    }
   ],
   "source": [
    "# 엘리먼트 삭제\n",
    "x = {'a':10,'b':20,'c':30,'d':40}\n",
    "z = x.pop('a')\n",
    "x, z"
   ]
  },
  {
   "cell_type": "code",
   "execution_count": 12,
   "metadata": {},
   "outputs": [
    {
     "data": {
      "text/plain": [
       "20"
      ]
     },
     "execution_count": 12,
     "metadata": {},
     "output_type": "execute_result"
    }
   ],
   "source": [
    "z = x.pop('b',0)\n",
    "z"
   ]
  },
  {
   "cell_type": "code",
   "execution_count": 13,
   "metadata": {},
   "outputs": [
    {
     "data": {
      "text/plain": [
       "0"
      ]
     },
     "execution_count": 13,
     "metadata": {},
     "output_type": "execute_result"
    }
   ],
   "source": [
    "z = x.pop('z',0)\n",
    "z"
   ]
  },
  {
   "cell_type": "code",
   "execution_count": 14,
   "metadata": {},
   "outputs": [
    {
     "data": {
      "text/plain": [
       "{'d': 40}"
      ]
     },
     "execution_count": 14,
     "metadata": {},
     "output_type": "execute_result"
    }
   ],
   "source": [
    "del x['c']\n",
    "x"
   ]
  },
  {
   "cell_type": "code",
   "execution_count": 16,
   "metadata": {},
   "outputs": [
    {
     "data": {
      "text/plain": [
       "('d', 40)"
      ]
     },
     "execution_count": 16,
     "metadata": {},
     "output_type": "execute_result"
    }
   ],
   "source": [
    "x = {'a':10,'b':20,'c':30,'d':40}\n",
    "x.popitem()"
   ]
  },
  {
   "cell_type": "code",
   "execution_count": 17,
   "metadata": {},
   "outputs": [
    {
     "data": {
      "text/plain": [
       "('c', 30)"
      ]
     },
     "execution_count": 17,
     "metadata": {},
     "output_type": "execute_result"
    }
   ],
   "source": [
    "x.popitem()"
   ]
  },
  {
   "cell_type": "code",
   "execution_count": 19,
   "metadata": {},
   "outputs": [
    {
     "data": {
      "text/plain": [
       "{}"
      ]
     },
     "execution_count": 19,
     "metadata": {},
     "output_type": "execute_result"
    }
   ],
   "source": [
    "x = {'a':10,'b':20,'c':30,'d':40}\n",
    "x.clear()\n",
    "x"
   ]
  },
  {
   "cell_type": "code",
   "execution_count": 22,
   "metadata": {},
   "outputs": [
    {
     "data": {
      "text/plain": [
       "10"
      ]
     },
     "execution_count": 22,
     "metadata": {},
     "output_type": "execute_result"
    }
   ],
   "source": [
    "# x['a']\n",
    "x = {'a':10,'b':20,'c':30,'d':40}\n",
    "x.get('a')"
   ]
  },
  {
   "cell_type": "markdown",
   "metadata": {},
   "source": [
    "### 딕셔너리에서 키-값 쌍을 모두 가져오기"
   ]
  },
  {
   "cell_type": "code",
   "execution_count": 24,
   "metadata": {},
   "outputs": [
    {
     "data": {
      "text/plain": [
       "dict_items([('a', 10), ('b', 20), ('c', 30), ('d', 40)])"
      ]
     },
     "execution_count": 24,
     "metadata": {},
     "output_type": "execute_result"
    }
   ],
   "source": [
    "x = {'a':10,'b':20,'c':30,'d':40}\n",
    "x.items()"
   ]
  },
  {
   "cell_type": "code",
   "execution_count": 26,
   "metadata": {},
   "outputs": [
    {
     "name": "stdout",
     "output_type": "stream",
     "text": [
      "a 10\n",
      "b 20\n",
      "c 30\n",
      "d 40\n"
     ]
    }
   ],
   "source": [
    "for key, value in x.items():\n",
    "    print(key, value)"
   ]
  },
  {
   "cell_type": "code",
   "execution_count": 27,
   "metadata": {},
   "outputs": [
    {
     "data": {
      "text/plain": [
       "dict_keys(['a', 'b', 'c', 'd'])"
      ]
     },
     "execution_count": 27,
     "metadata": {},
     "output_type": "execute_result"
    }
   ],
   "source": [
    "x.keys()"
   ]
  },
  {
   "cell_type": "code",
   "execution_count": 28,
   "metadata": {},
   "outputs": [
    {
     "data": {
      "text/plain": [
       "dict_values([10, 20, 30, 40])"
      ]
     },
     "execution_count": 28,
     "metadata": {},
     "output_type": "execute_result"
    }
   ],
   "source": [
    "x.values()"
   ]
  },
  {
   "cell_type": "code",
   "execution_count": 29,
   "metadata": {},
   "outputs": [
    {
     "name": "stdout",
     "output_type": "stream",
     "text": [
      "a 10\n",
      "b 20\n",
      "c 30\n",
      "d 40\n"
     ]
    }
   ],
   "source": [
    "for key in x.keys():\n",
    "    print(key,x[key])"
   ]
  },
  {
   "cell_type": "markdown",
   "metadata": {},
   "source": [
    "### 리스트와 튜플로 딕셔너리 만들기"
   ]
  },
  {
   "cell_type": "code",
   "execution_count": 30,
   "metadata": {},
   "outputs": [
    {
     "data": {
      "text/plain": [
       "{'a': None, 'b': None, 'c': None, 'd': None}"
      ]
     },
     "execution_count": 30,
     "metadata": {},
     "output_type": "execute_result"
    }
   ],
   "source": [
    "keys = ['a', 'b', 'c', 'd']\n",
    "x = dict.fromkeys(keys)\n",
    "x"
   ]
  },
  {
   "cell_type": "code",
   "execution_count": 31,
   "metadata": {},
   "outputs": [
    {
     "data": {
      "text/plain": [
       "{'a': 100, 'b': 100, 'c': 100, 'd': 100}"
      ]
     },
     "execution_count": 31,
     "metadata": {},
     "output_type": "execute_result"
    }
   ],
   "source": [
    "y = dict.fromkeys(keys, 100)\n",
    "y"
   ]
  },
  {
   "cell_type": "markdown",
   "metadata": {},
   "source": [
    "### 딕셔너리와 for 반복문"
   ]
  },
  {
   "cell_type": "code",
   "execution_count": 32,
   "metadata": {},
   "outputs": [
    {
     "name": "stdout",
     "output_type": "stream",
     "text": [
      "a 40\n",
      "b 40\n",
      "c 40\n",
      "d 40\n"
     ]
    }
   ],
   "source": [
    "x = {'a':10,'b':20,'c':30,'d':40}\n",
    "for key,vaule in x.items():\n",
    "    print(key,value)"
   ]
  },
  {
   "cell_type": "code",
   "execution_count": 33,
   "metadata": {},
   "outputs": [
    {
     "name": "stdout",
     "output_type": "stream",
     "text": [
      "a 10\n",
      "b 20\n",
      "c 30\n",
      "d 40\n"
     ]
    }
   ],
   "source": [
    "for key in x.keys():\n",
    "    print(key,x.get(key))"
   ]
  },
  {
   "cell_type": "code",
   "execution_count": 34,
   "metadata": {},
   "outputs": [
    {
     "name": "stdout",
     "output_type": "stream",
     "text": [
      "10\n",
      "20\n",
      "30\n",
      "40\n"
     ]
    }
   ],
   "source": [
    "for value in x.values():\n",
    "    print(value)"
   ]
  },
  {
   "cell_type": "markdown",
   "metadata": {},
   "source": [
    "### 딕셔너리 표현식"
   ]
  },
  {
   "cell_type": "code",
   "execution_count": 37,
   "metadata": {},
   "outputs": [
    {
     "data": {
      "text/plain": [
       "{'a': 0, 'b': 0, 'c': 0, 'd': 0}"
      ]
     },
     "execution_count": 37,
     "metadata": {},
     "output_type": "execute_result"
    }
   ],
   "source": [
    "keys = ['a', 'b', 'c', 'd']\n",
    "x = {key: value for key,value in dict.fromkeys(keys,0).items()}\n",
    "x"
   ]
  },
  {
   "cell_type": "code",
   "execution_count": 39,
   "metadata": {},
   "outputs": [
    {
     "data": {
      "text/plain": [
       "{10: 'a', 20: 'b', 30: 'c', 40: 'd'}"
      ]
     },
     "execution_count": 39,
     "metadata": {},
     "output_type": "execute_result"
    }
   ],
   "source": [
    "{value: key for key,value in {'a': 10, 'b': 20, 'c': 30, 'd': 40}.items()}"
   ]
  },
  {
   "cell_type": "code",
   "execution_count": 41,
   "metadata": {},
   "outputs": [
    {
     "ename": "RuntimeError",
     "evalue": "dictionary changed size during iteration",
     "output_type": "error",
     "traceback": [
      "\u001b[1;31m---------------------------------------------------------------------------\u001b[0m",
      "\u001b[1;31mRuntimeError\u001b[0m                              Traceback (most recent call last)",
      "\u001b[1;32m<ipython-input-41-0ebfe1aafb12>\u001b[0m in \u001b[0;36m<module>\u001b[1;34m\u001b[0m\n\u001b[0;32m      1\u001b[0m \u001b[0mx\u001b[0m \u001b[1;33m=\u001b[0m \u001b[1;33m{\u001b[0m\u001b[1;34m'a'\u001b[0m\u001b[1;33m:\u001b[0m\u001b[1;36m10\u001b[0m\u001b[1;33m,\u001b[0m\u001b[1;34m'b'\u001b[0m\u001b[1;33m:\u001b[0m\u001b[1;36m20\u001b[0m\u001b[1;33m,\u001b[0m\u001b[1;34m'c'\u001b[0m\u001b[1;33m:\u001b[0m\u001b[1;36m30\u001b[0m\u001b[1;33m,\u001b[0m\u001b[1;34m'd'\u001b[0m\u001b[1;33m:\u001b[0m\u001b[1;36m40\u001b[0m\u001b[1;33m}\u001b[0m\u001b[1;33m\u001b[0m\u001b[1;33m\u001b[0m\u001b[0m\n\u001b[1;32m----> 2\u001b[1;33m \u001b[1;32mfor\u001b[0m \u001b[0mkey\u001b[0m\u001b[1;33m,\u001b[0m\u001b[0mvalue\u001b[0m \u001b[1;32min\u001b[0m \u001b[0mx\u001b[0m\u001b[1;33m.\u001b[0m\u001b[0mitems\u001b[0m\u001b[1;33m(\u001b[0m\u001b[1;33m)\u001b[0m\u001b[1;33m:\u001b[0m\u001b[1;33m\u001b[0m\u001b[1;33m\u001b[0m\u001b[0m\n\u001b[0m\u001b[0;32m      3\u001b[0m     \u001b[1;32mif\u001b[0m \u001b[0mvalue\u001b[0m \u001b[1;33m==\u001b[0m \u001b[1;36m20\u001b[0m\u001b[1;33m:\u001b[0m\u001b[1;33m\u001b[0m\u001b[1;33m\u001b[0m\u001b[0m\n\u001b[0;32m      4\u001b[0m         \u001b[1;32mdel\u001b[0m \u001b[0mx\u001b[0m\u001b[1;33m[\u001b[0m\u001b[0mkey\u001b[0m\u001b[1;33m]\u001b[0m\u001b[1;33m\u001b[0m\u001b[1;33m\u001b[0m\u001b[0m\n\u001b[0;32m      5\u001b[0m \u001b[0mx\u001b[0m\u001b[1;33m\u001b[0m\u001b[1;33m\u001b[0m\u001b[0m\n",
      "\u001b[1;31mRuntimeError\u001b[0m: dictionary changed size during iteration"
     ]
    }
   ],
   "source": [
    "x = {'a':10,'b':20,'c':30,'d':40}\n",
    "for key,value in x.items():\n",
    "    if value == 20:\n",
    "        del x[key]\n",
    "x"
   ]
  },
  {
   "cell_type": "code",
   "execution_count": 43,
   "metadata": {},
   "outputs": [
    {
     "data": {
      "text/plain": [
       "{'a': 10, 'c': 30, 'd': 40}"
      ]
     },
     "execution_count": 43,
     "metadata": {},
     "output_type": "execute_result"
    }
   ],
   "source": [
    "x = {'a':10,'b':20,'c':30,'d':40}\n",
    "x = {key:value for key,value in x.items() if value != 20}\n",
    "x"
   ]
  },
  {
   "cell_type": "code",
   "execution_count": 44,
   "metadata": {},
   "outputs": [
    {
     "data": {
      "text/plain": [
       "{'a': 10, 'b': 20}"
      ]
     },
     "execution_count": 44,
     "metadata": {},
     "output_type": "execute_result"
    }
   ],
   "source": [
    "# Filtering\n",
    "x = {'a':10,'b':20,'c':30,'d':40}\n",
    "x = {key:value for key,value in x.items() if value < 25}\n",
    "x"
   ]
  },
  {
   "cell_type": "markdown",
   "metadata": {},
   "source": [
    "### Nested Dictionary"
   ]
  },
  {
   "cell_type": "code",
   "execution_count": 45,
   "metadata": {},
   "outputs": [
    {
     "name": "stdout",
     "output_type": "stream",
     "text": [
      "6051.8\n"
     ]
    }
   ],
   "source": [
    "terrestrial_planet = {\n",
    "    'Mercury': {\n",
    "        'mean_radius': 2439.7,\n",
    "        'mass': 3.3022E+23,\n",
    "        'orbital_period': 87.969\n",
    "    },\n",
    "    'Venus': {\n",
    "        'mean_radius': 6051.8,\n",
    "        'mass': 4.8676E+24,\n",
    "        'orbital_period': 224.70069,\n",
    "    },\n",
    "    'Earth': {\n",
    "        'mean_radius': 6371.0,\n",
    "        'mass': 5.97219E+24,\n",
    "        'orbital_period': 365.25641,\n",
    "    },\n",
    "    'Mars': {\n",
    "        'mean_radius': 3389.5,\n",
    "        'mass': 6.4185E+23,\n",
    "        'orbital_period': 686.9600,\n",
    "    }\n",
    "}\n",
    "\n",
    "print(terrestrial_planet['Venus']['mean_radius'])"
   ]
  },
  {
   "cell_type": "code",
   "execution_count": 50,
   "metadata": {},
   "outputs": [
    {
     "name": "stdout",
     "output_type": "stream",
     "text": [
      "Mercury\n",
      "\t mean_radius : 2439.7\n",
      "\t mass : 3.3022e+23\n",
      "\t orbital_period : 87.969\n",
      "Venus\n",
      "\t mean_radius : 6051.8\n",
      "\t mass : 4.8676e+24\n",
      "\t orbital_period : 224.70069\n",
      "Earth\n",
      "\t mean_radius : 6371.0\n",
      "\t mass : 5.97219e+24\n",
      "\t orbital_period : 365.25641\n",
      "Mars\n",
      "\t mean_radius : 3389.5\n",
      "\t mass : 6.4185e+23\n",
      "\t orbital_period : 686.96\n"
     ]
    }
   ],
   "source": [
    "for outer_key, outer_value in terrestrial_planet.items():\n",
    "    print(outer_key)\n",
    "    for inner_key,inner_value in outer_value.items():\n",
    "        print('\\t',inner_key,':',inner_value)"
   ]
  },
  {
   "cell_type": "markdown",
   "metadata": {},
   "source": [
    "### 딕셔너리의 할당과 복사"
   ]
  },
  {
   "cell_type": "code",
   "execution_count": 51,
   "metadata": {},
   "outputs": [
    {
     "data": {
      "text/plain": [
       "{'a': 10, 'b': 20, 'c': 30, 'd': 99}"
      ]
     },
     "execution_count": 51,
     "metadata": {},
     "output_type": "execute_result"
    }
   ],
   "source": [
    "x = {'a':10,'b':20,'c':30,'d':40}\n",
    "y = x\n",
    "y['d'] = 99\n",
    "x"
   ]
  },
  {
   "cell_type": "code",
   "execution_count": 52,
   "metadata": {},
   "outputs": [
    {
     "data": {
      "text/plain": [
       "{'a': 10, 'b': 20, 'c': 30, 'd': 40}"
      ]
     },
     "execution_count": 52,
     "metadata": {},
     "output_type": "execute_result"
    }
   ],
   "source": [
    "x = {'a':10,'b':20,'c':30,'d':40}\n",
    "y = x.copy()\n",
    "y['d'] = 99\n",
    "x"
   ]
  },
  {
   "cell_type": "code",
   "execution_count": 53,
   "metadata": {},
   "outputs": [
    {
     "data": {
      "text/plain": [
       "{'a': {'python': '2.7.15'}, 'b': {'python': '3.6'}}"
      ]
     },
     "execution_count": 53,
     "metadata": {},
     "output_type": "execute_result"
    }
   ],
   "source": [
    "x = {'a': {'python': '2.7'}, 'b': {'python': '3.6'}}\n",
    "y = x.copy()\n",
    "y['a']['python'] = '2.7.15'\n",
    "x"
   ]
  },
  {
   "cell_type": "code",
   "execution_count": 55,
   "metadata": {},
   "outputs": [
    {
     "data": {
      "text/plain": [
       "{'a': {'python': '2.7'}, 'b': {'python': '3.6'}}"
      ]
     },
     "execution_count": 55,
     "metadata": {},
     "output_type": "execute_result"
    }
   ],
   "source": [
    "import copy\n",
    "x = {'a': {'python': '2.7'}, 'b': {'python': '3.6'}}\n",
    "y = copy.deepcopy(x)\n",
    "y['a']['python'] = '2.7.15'\n",
    "x"
   ]
  },
  {
   "cell_type": "code",
   "execution_count": 61,
   "metadata": {},
   "outputs": [
    {
     "name": "stdout",
     "output_type": "stream",
     "text": [
      "alpha bravo charlie delta echo foxtrot golf\n",
      "30 40 50 60 70 80 90\n",
      "{'bravo': 40, 'charlie': 50, 'echo': 70, 'foxtrot': 80, 'golf': 90}\n"
     ]
    }
   ],
   "source": [
    "keys = input().split()\n",
    "values = map(int, input().split())\n",
    " \n",
    "x = dict(zip(keys, values))\n",
    "x = {key:value for key,value in x.items() if key != 'delta' and value != 30} \n",
    "print(x)"
   ]
  },
  {
   "cell_type": "markdown",
   "metadata": {},
   "source": [
    "### Word Count Top 10 연습문제"
   ]
  },
  {
   "cell_type": "code",
   "execution_count": 14,
   "metadata": {},
   "outputs": [],
   "source": [
    "lorem = \"\"\"\n",
    "So how did the classical Latin become so incoherent? According to McClintock, a 15th century typesetter likely scrambled part of Cicero's De Finibus in order to provide placeholder text to mockup various fonts for a type specimen book.\n",
    "\n",
    "It's difficult to find examples of lorem ipsum in use before Letraset made it popular as a dummy text in the 1960s, although McClintock says he remembers coming across the lorem ipsum passage in a book of old metal type samples. So far he hasn't relocated where he once saw the passage, but the popularity of Cicero in the 15th century supports the theory that the filler text has been used for centuries.\n",
    "\n",
    "And anyways, as Cecil Adams reasoned, “[Do you really] think graphic arts supply houses were hiring classics scholars in the 1960s?” Perhaps. But it seems reasonable to imagine that there was a version in use far before the age of Letraset.\n",
    "\n",
    "McClintock wrote to Before & After to explain his discovery;\n",
    "\n",
    "“What I find remarkable is that this text has been the industry's standard dummy text ever since some printer in the 1500s took a galley of type and scrambled it to make a type specimen book; it has survived not only four centuries of letter-by-letter resetting but even the leap into electronic typesetting, essentially unchanged except for an occasional 'ing' or 'y' thrown in. It's ironic that when the then-understood Latin was scrambled, it became as incomprehensible as Greek; the phrase 'it's Greek to me' and 'greeking' have common semantic roots!” (The editors published his letter in a correction headlined “Lorem Oopsum”).\n",
    "As an alternative theory, (and because Latin scholars do this sort of thing) someone tracked down a 1914 Latin edition of De Finibus which challenges McClintock's 15th century claims and suggests that the dawn of lorem ipsum was as recent as the 20th century. The 1914 Loeb Classical Library Edition ran out of room on page 34 for the Latin phrase “dolorem ipsum” (sorrow in itself). Thus, the truncated phrase leaves one page dangling with “do-”, while another begins with the now ubiquitous “lorem ipsum”.\n",
    "\n",
    "Whether a medieval typesetter chose to garble a well-known (but non-Biblical—that would have been sacrilegious) text, or whether a quirk in the 1914 Loeb Edition inspired a graphic designer, it's admittedly an odd way for Cicero to sail into the 21st century.\n",
    "\"\"\""
   ]
  },
  {
   "cell_type": "code",
   "execution_count": 17,
   "metadata": {},
   "outputs": [
    {
     "name": "stdout",
     "output_type": "stream",
     "text": [
      "\n",
      "so how did the classical latin become so incoherent according to mcclintock a th century typesetter likely scrambled part of ciceros de finibus in order to provide placeholder text to mockup various fonts for a type specimen book\n",
      "\n",
      "its difficult to find examples of lorem ipsum in use before letraset made it popular as a dummy text in the s although mcclintock says he remembers coming across the lorem ipsum passage in a book of old metal type samples so far he hasnt relocated where he once saw the passage but the popularity of cicero in the th century supports the theory that the filler text has been used for centuries\n",
      "\n",
      "and anyways as cecil adams reasoned “do you really think graphic arts supply houses were hiring classics scholars in the s” perhaps but it seems reasonable to imagine that there was a version in use far before the age of letraset\n",
      "\n",
      "mcclintock wrote to before  after to explain his discovery\n",
      "\n",
      "“what i find remarkable is that this text has been the industrys standard dummy text ever since some printer in the s took a galley of type and scrambled it to make a type specimen book it has survived not only four centuries of letterbyletter resetting but even the leap into electronic typesetting essentially unchanged except for an occasional ing or y thrown in its ironic that when the thenunderstood latin was scrambled it became as incomprehensible as greek the phrase its greek to me and greeking have common semantic roots” the editors published his letter in a correction headlined “lorem oopsum”\n",
      "as an alternative theory and because latin scholars do this sort of thing someone tracked down a  latin edition of de finibus which challenges mcclintocks th century claims and suggests that the dawn of lorem ipsum was as recent as the th century the  loeb classical library edition ran out of room on page  for the latin phrase “dolorem ipsum” sorrow in itself thus the truncated phrase leaves one page dangling with “do” while another begins with the now ubiquitous “lorem ipsum”\n",
      "\n",
      "whether a medieval typesetter chose to garble a wellknown but nonbiblical—that would have been sacrilegious text or whether a quirk in the  loeb edition inspired a graphic designer its admittedly an odd way for cicero to sail into the st century\n",
      "\n"
     ]
    }
   ],
   "source": [
    "# 구둣점, 숫자 삭제\n",
    "import re\n",
    "import string\n",
    "lorem = re.sub(f'[{string.punctuation}0-9]','', lorem, flags=re.MULTILINE)\n",
    "print(lorem)"
   ]
  },
  {
   "cell_type": "code",
   "execution_count": 18,
   "metadata": {},
   "outputs": [
    {
     "name": "stdout",
     "output_type": "stream",
     "text": [
      "\n",
      "so how did the classical latin become so incoherent according to mcclintock a th century typesetter likely scrambled part of ciceros de finibus in order to provide placeholder text to mockup various fonts for a type specimen book\n",
      "\n",
      "its difficult to find examples of lorem ipsum in use before letraset made it popular as a dummy text in the s although mcclintock says he remembers coming across the lorem ipsum passage in a book of old metal type samples so far he hasnt relocated where he once saw the passage but the popularity of cicero in the th century supports the theory that the filler text has been used for centuries\n",
      "\n",
      "and anyways as cecil adams reasoned “do you really think graphic arts supply houses were hiring classics scholars in the s” perhaps but it seems reasonable to imagine that there was a version in use far before the age of letraset\n",
      "\n",
      "mcclintock wrote to before  after to explain his discovery\n",
      "\n",
      "“what i find remarkable is that this text has been the industrys standard dummy text ever since some printer in the s took a galley of type and scrambled it to make a type specimen book it has survived not only four centuries of letterbyletter resetting but even the leap into electronic typesetting essentially unchanged except for an occasional ing or y thrown in its ironic that when the thenunderstood latin was scrambled it became as incomprehensible as greek the phrase its greek to me and greeking have common semantic roots” the editors published his letter in a correction headlined “lorem oopsum”\n",
      "as an alternative theory and because latin scholars do this sort of thing someone tracked down a  latin edition of de finibus which challenges mcclintocks th century claims and suggests that the dawn of lorem ipsum was as recent as the th century the  loeb classical library edition ran out of room on page  for the latin phrase “dolorem ipsum” sorrow in itself thus the truncated phrase leaves one page dangling with “do” while another begins with the now ubiquitous “lorem ipsum”\n",
      "\n",
      "whether a medieval typesetter chose to garble a wellknown but nonbiblical—that would have been sacrilegious text or whether a quirk in the  loeb edition inspired a graphic designer its admittedly an odd way for cicero to sail into the st century\n",
      "\n"
     ]
    }
   ],
   "source": [
    "# 소문자로 변경\n",
    "lorem = lorem.lower()\n",
    "print(lorem)"
   ]
  },
  {
   "cell_type": "code",
   "execution_count": 19,
   "metadata": {},
   "outputs": [
    {
     "name": "stdout",
     "output_type": "stream",
     "text": [
      "['so', 'how', 'did', 'the', 'classical', 'latin', 'become', 'so', 'incoherent', 'according', 'to', 'mcclintock', 'a', 'th', 'century', 'typesetter', 'likely', 'scrambled', 'part', 'of', 'ciceros', 'de', 'finibus', 'in', 'order', 'to', 'provide', 'placeholder', 'text', 'to', 'mockup', 'various', 'fonts', 'for', 'a', 'type', 'specimen', 'book', 'its', 'difficult', 'to', 'find', 'examples', 'of', 'lorem', 'ipsum', 'in', 'use', 'before', 'letraset', 'made', 'it', 'popular', 'as', 'a', 'dummy', 'text', 'in', 'the', 's', 'although', 'mcclintock', 'says', 'he', 'remembers', 'coming', 'across', 'the', 'lorem', 'ipsum', 'passage', 'in', 'a', 'book', 'of', 'old', 'metal', 'type', 'samples', 'so', 'far', 'he', 'hasnt', 'relocated', 'where', 'he', 'once', 'saw', 'the', 'passage', 'but', 'the', 'popularity', 'of', 'cicero', 'in', 'the', 'th', 'century', 'supports', 'the', 'theory', 'that', 'the', 'filler', 'text', 'has', 'been', 'used', 'for', 'centuries', 'and', 'anyways', 'as', 'cecil', 'adams', 'reasoned', '“do', 'you', 'really', 'think', 'graphic', 'arts', 'supply', 'houses', 'were', 'hiring', 'classics', 'scholars', 'in', 'the', 's”', 'perhaps', 'but', 'it', 'seems', 'reasonable', 'to', 'imagine', 'that', 'there', 'was', 'a', 'version', 'in', 'use', 'far', 'before', 'the', 'age', 'of', 'letraset', 'mcclintock', 'wrote', 'to', 'before', 'after', 'to', 'explain', 'his', 'discovery', '“what', 'i', 'find', 'remarkable', 'is', 'that', 'this', 'text', 'has', 'been', 'the', 'industrys', 'standard', 'dummy', 'text', 'ever', 'since', 'some', 'printer', 'in', 'the', 's', 'took', 'a', 'galley', 'of', 'type', 'and', 'scrambled', 'it', 'to', 'make', 'a', 'type', 'specimen', 'book', 'it', 'has', 'survived', 'not', 'only', 'four', 'centuries', 'of', 'letterbyletter', 'resetting', 'but', 'even', 'the', 'leap', 'into', 'electronic', 'typesetting', 'essentially', 'unchanged', 'except', 'for', 'an', 'occasional', 'ing', 'or', 'y', 'thrown', 'in', 'its', 'ironic', 'that', 'when', 'the', 'thenunderstood', 'latin', 'was', 'scrambled', 'it', 'became', 'as', 'incomprehensible', 'as', 'greek', 'the', 'phrase', 'its', 'greek', 'to', 'me', 'and', 'greeking', 'have', 'common', 'semantic', 'roots”', 'the', 'editors', 'published', 'his', 'letter', 'in', 'a', 'correction', 'headlined', '“lorem', 'oopsum”', 'as', 'an', 'alternative', 'theory', 'and', 'because', 'latin', 'scholars', 'do', 'this', 'sort', 'of', 'thing', 'someone', 'tracked', 'down', 'a', 'latin', 'edition', 'of', 'de', 'finibus', 'which', 'challenges', 'mcclintocks', 'th', 'century', 'claims', 'and', 'suggests', 'that', 'the', 'dawn', 'of', 'lorem', 'ipsum', 'was', 'as', 'recent', 'as', 'the', 'th', 'century', 'the', 'loeb', 'classical', 'library', 'edition', 'ran', 'out', 'of', 'room', 'on', 'page', 'for', 'the', 'latin', 'phrase', '“dolorem', 'ipsum”', 'sorrow', 'in', 'itself', 'thus', 'the', 'truncated', 'phrase', 'leaves', 'one', 'page', 'dangling', 'with', '“do”', 'while', 'another', 'begins', 'with', 'the', 'now', 'ubiquitous', '“lorem', 'ipsum”', 'whether', 'a', 'medieval', 'typesetter', 'chose', 'to', 'garble', 'a', 'wellknown', 'but', 'nonbiblical—that', 'would', 'have', 'been', 'sacrilegious', 'text', 'or', 'whether', 'a', 'quirk', 'in', 'the', 'loeb', 'edition', 'inspired', 'a', 'graphic', 'designer', 'its', 'admittedly', 'an', 'odd', 'way', 'for', 'cicero', 'to', 'sail', 'into', 'the', 'st', 'century']\n"
     ]
    }
   ],
   "source": [
    "lorem_list = lorem.split()\n",
    "print(lorem_list)"
   ]
  },
  {
   "cell_type": "code",
   "execution_count": 25,
   "metadata": {},
   "outputs": [
    {
     "name": "stdout",
     "output_type": "stream",
     "text": [
      "{'so': 3, 'how': 1, 'did': 1, 'the': 24, 'classical': 2, 'latin': 5, 'become': 1, 'incoherent': 1, 'according': 1, 'to': 11, 'mcclintock': 3, 'a': 13, 'th': 4, 'century': 5, 'typesetter': 2, 'likely': 1, 'scrambled': 3, 'part': 1, 'of': 11, 'ciceros': 1, 'de': 2, 'finibus': 2, 'in': 12, 'order': 1, 'provide': 1, 'placeholder': 1, 'text': 6, 'mockup': 1, 'various': 1, 'fonts': 1, 'for': 5, 'type': 4, 'specimen': 2, 'book': 3, 'its': 4, 'difficult': 1, 'find': 2, 'examples': 1, 'lorem': 3, 'ipsum': 3, 'use': 2, 'before': 3, 'letraset': 2, 'made': 1, 'it': 5, 'popular': 1, 'as': 7, 'dummy': 2, 's': 2, 'although': 1, 'says': 1, 'he': 3, 'remembers': 1, 'coming': 1, 'across': 1, 'passage': 2, 'old': 1, 'metal': 1, 'samples': 1, 'far': 2, 'hasnt': 1, 'relocated': 1, 'where': 1, 'once': 1, 'saw': 1, 'but': 4, 'popularity': 1, 'cicero': 2, 'supports': 1, 'theory': 2, 'that': 5, 'filler': 1, 'has': 3, 'been': 3, 'used': 1, 'centuries': 2, 'and': 5, 'anyways': 1, 'cecil': 1, 'adams': 1, 'reasoned': 1, '“do': 1, 'you': 1, 'really': 1, 'think': 1, 'graphic': 2, 'arts': 1, 'supply': 1, 'houses': 1, 'were': 1, 'hiring': 1, 'classics': 1, 'scholars': 2, 's”': 1, 'perhaps': 1, 'seems': 1, 'reasonable': 1, 'imagine': 1, 'there': 1, 'was': 3, 'version': 1, 'age': 1, 'wrote': 1, 'after': 1, 'explain': 1, 'his': 2, 'discovery': 1, '“what': 1, 'i': 1, 'remarkable': 1, 'is': 1, 'this': 2, 'industrys': 1, 'standard': 1, 'ever': 1, 'since': 1, 'some': 1, 'printer': 1, 'took': 1, 'galley': 1, 'make': 1, 'survived': 1, 'not': 1, 'only': 1, 'four': 1, 'letterbyletter': 1, 'resetting': 1, 'even': 1, 'leap': 1, 'into': 2, 'electronic': 1, 'typesetting': 1, 'essentially': 1, 'unchanged': 1, 'except': 1, 'an': 3, 'occasional': 1, 'ing': 1, 'or': 2, 'y': 1, 'thrown': 1, 'ironic': 1, 'when': 1, 'thenunderstood': 1, 'became': 1, 'incomprehensible': 1, 'greek': 2, 'phrase': 3, 'me': 1, 'greeking': 1, 'have': 2, 'common': 1, 'semantic': 1, 'roots”': 1, 'editors': 1, 'published': 1, 'letter': 1, 'correction': 1, 'headlined': 1, '“lorem': 2, 'oopsum”': 1, 'alternative': 1, 'because': 1, 'do': 1, 'sort': 1, 'thing': 1, 'someone': 1, 'tracked': 1, 'down': 1, 'edition': 3, 'which': 1, 'challenges': 1, 'mcclintocks': 1, 'claims': 1, 'suggests': 1, 'dawn': 1, 'recent': 1, 'loeb': 2, 'library': 1, 'ran': 1, 'out': 1, 'room': 1, 'on': 1, 'page': 2, '“dolorem': 1, 'ipsum”': 2, 'sorrow': 1, 'itself': 1, 'thus': 1, 'truncated': 1, 'leaves': 1, 'one': 1, 'dangling': 1, 'with': 2, '“do”': 1, 'while': 1, 'another': 1, 'begins': 1, 'now': 1, 'ubiquitous': 1, 'whether': 2, 'medieval': 1, 'chose': 1, 'garble': 1, 'wellknown': 1, 'nonbiblical—that': 1, 'would': 1, 'sacrilegious': 1, 'quirk': 1, 'inspired': 1, 'designer': 1, 'admittedly': 1, 'odd': 1, 'way': 1, 'sail': 1, 'st': 1}\n"
     ]
    }
   ],
   "source": [
    "word_dict = {}\n",
    "for word in lorem_list:\n",
    "    if word in word_dict.keys():\n",
    "        word_dict[word] += 1\n",
    "    else:\n",
    "        word_dict.update({word: 1})\n",
    "print(word_dict)        "
   ]
  },
  {
   "cell_type": "code",
   "execution_count": 26,
   "metadata": {},
   "outputs": [
    {
     "name": "stdout",
     "output_type": "stream",
     "text": [
      "['the', 'a', 'in', 'to', 'of', 'as', 'text', 'latin', 'century', 'for', 'it', 'that', 'and', 'th', 'type', 'its', 'but', 'so', 'mcclintock', 'scrambled', 'book', 'lorem', 'ipsum', 'before', 'he', 'has', 'been', 'was', 'an', 'phrase', 'edition', 'classical', 'typesetter', 'de', 'finibus', 'specimen', 'find', 'use', 'letraset', 'dummy', 's', 'passage', 'far', 'cicero', 'theory', 'centuries', 'graphic', 'scholars', 'his', 'this', 'into', 'or', 'greek', 'have', '“lorem', 'loeb', 'page', 'ipsum”', 'with', 'whether', 'how', 'did', 'become', 'incoherent', 'according', 'likely', 'part', 'ciceros', 'order', 'provide', 'placeholder', 'mockup', 'various', 'fonts', 'difficult', 'examples', 'made', 'popular', 'although', 'says', 'remembers', 'coming', 'across', 'old', 'metal', 'samples', 'hasnt', 'relocated', 'where', 'once', 'saw', 'popularity', 'supports', 'filler', 'used', 'anyways', 'cecil', 'adams', 'reasoned', '“do', 'you', 'really', 'think', 'arts', 'supply', 'houses', 'were', 'hiring', 'classics', 's”', 'perhaps', 'seems', 'reasonable', 'imagine', 'there', 'version', 'age', 'wrote', 'after', 'explain', 'discovery', '“what', 'i', 'remarkable', 'is', 'industrys', 'standard', 'ever', 'since', 'some', 'printer', 'took', 'galley', 'make', 'survived', 'not', 'only', 'four', 'letterbyletter', 'resetting', 'even', 'leap', 'electronic', 'typesetting', 'essentially', 'unchanged', 'except', 'occasional', 'ing', 'y', 'thrown', 'ironic', 'when', 'thenunderstood', 'became', 'incomprehensible', 'me', 'greeking', 'common', 'semantic', 'roots”', 'editors', 'published', 'letter', 'correction', 'headlined', 'oopsum”', 'alternative', 'because', 'do', 'sort', 'thing', 'someone', 'tracked', 'down', 'which', 'challenges', 'mcclintocks', 'claims', 'suggests', 'dawn', 'recent', 'library', 'ran', 'out', 'room', 'on', '“dolorem', 'sorrow', 'itself', 'thus', 'truncated', 'leaves', 'one', 'dangling', '“do”', 'while', 'another', 'begins', 'now', 'ubiquitous', 'medieval', 'chose', 'garble', 'wellknown', 'nonbiblical—that', 'would', 'sacrilegious', 'quirk', 'inspired', 'designer', 'admittedly', 'odd', 'way', 'sail', 'st']\n"
     ]
    }
   ],
   "source": [
    "sorted_words = sorted(word_dict, key=lambda k: word_dict[k], reverse=True)\n",
    "print(sorted_words)"
   ]
  },
  {
   "cell_type": "code",
   "execution_count": 27,
   "metadata": {},
   "outputs": [
    {
     "name": "stdout",
     "output_type": "stream",
     "text": [
      "the 24\n",
      "a 13\n",
      "in 12\n",
      "to 11\n",
      "of 11\n",
      "as 7\n",
      "text 6\n",
      "latin 5\n",
      "century 5\n",
      "for 5\n"
     ]
    }
   ],
   "source": [
    "for index, value in enumerate(sorted_words):\n",
    "    if index == 10:\n",
    "        break;\n",
    "    print(value, word_dict[value])"
   ]
  },
  {
   "cell_type": "code",
   "execution_count": null,
   "metadata": {},
   "outputs": [],
   "source": []
  }
 ],
 "metadata": {
  "kernelspec": {
   "display_name": "Python 3",
   "language": "python",
   "name": "python3"
  },
  "language_info": {
   "codemirror_mode": {
    "name": "ipython",
    "version": 3
   },
   "file_extension": ".py",
   "mimetype": "text/x-python",
   "name": "python",
   "nbconvert_exporter": "python",
   "pygments_lexer": "ipython3",
   "version": "3.8.3"
  }
 },
 "nbformat": 4,
 "nbformat_minor": 4
}
