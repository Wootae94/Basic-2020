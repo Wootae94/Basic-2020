{
 "metadata": {
  "language_info": {
   "codemirror_mode": {
    "name": "ipython",
    "version": 3
   },
   "file_extension": ".py",
   "mimetype": "text/x-python",
   "name": "python",
   "nbconvert_exporter": "python",
   "pygments_lexer": "ipython3",
   "version": "3.8.3-final"
  },
  "orig_nbformat": 2,
  "kernelspec": {
   "name": "Python 3.8.3 64-bit (conda)",
   "display_name": "Python 3.8.3 64-bit (conda)",
   "metadata": {
    "interpreter": {
     "hash": "b3ba2566441a7c06988d0923437866b63cedc61552a5af99d1f4fb67d367b25f"
    }
   }
  }
 },
 "nbformat": 4,
 "nbformat_minor": 2,
 "cells": [
  {
   "cell_type": "code",
   "execution_count": 1,
   "metadata": {},
   "outputs": [],
   "source": [
    "# 12.4\n",
    "mammoth = '''We have seen the Queen of cheese,\n",
    "Laying quietly at your ease,\n",
    "Gently fanned by evening breeze --\n",
    "Thy fair form no flies dare seize.\n",
    "\n",
    "All gaily dressed soon you'll go\n",
    "To the great Provincial Show,\n",
    "To be admired by many a beau\n",
    "In the city of Toronto.\n",
    "\n",
    "Cows numerous as a swarm of bees --\n",
    "Or as the leaves upon the trees --\n",
    "It did require to make thee please,\n",
    "And stand unrivalled Queen of Cheese.\n",
    "\n",
    "May you not receive a scar as\n",
    "We have heard that Mr. Harris\n",
    "Intends to send you off as far as\n",
    "The great World's show at Paris.\n",
    "\n",
    "Of the youth -- beware of these --\n",
    "For some of them might rudely squeeze\n",
    "And bite your cheek; then songs or glees\n",
    "We could not sing o' Queen of Cheese.\n",
    "\n",
    "We'rt thou suspended from baloon,\n",
    "You'd cast a shade, even at noon;\n",
    "Folks would think it was the moon\n",
    "About to fall and crush them soon.'''"
   ]
  },
  {
   "cell_type": "code",
   "execution_count": 40,
   "metadata": {},
   "outputs": [
    {
     "output_type": "stream",
     "name": "stdout",
     "text": [
      "['cheese', 'city', 'cheek', 'could', 'cast', 'crush']\n"
     ]
    }
   ],
   "source": [
    "# 12 - 5\n",
    "import re\n",
    "list_mam = re.findall(r'\\bc\\w+\\b', mammoth)\n",
    "print(list_mam)\n"
   ]
  },
  {
   "cell_type": "code",
   "execution_count": 41,
   "metadata": {},
   "outputs": [
    {
     "output_type": "stream",
     "name": "stdout",
     "text": [
      "['city', 'cast']\n"
     ]
    }
   ],
   "source": [
    "# 12 - 6\n",
    "import re\n",
    "list_mam = re.findall(r'\\bc\\w{3}\\b', mammoth)\n",
    "print(list_mam)\n"
   ]
  },
  {
   "cell_type": "code",
   "execution_count": 29,
   "metadata": {},
   "outputs": [
    {
     "output_type": "stream",
     "name": "stdout",
     "text": [
      "['your ', 'fair ', 'Or ', 'scar ', 'Mr.', 'far ', 'For ', 'your ', 'or ']\n"
     ]
    }
   ],
   "source": [
    "# 12 - 7\n",
    "import re\n",
    "list_mam = re.findall(r'\\w+?r[\\b\\W]', mammoth)\n",
    "print(list_mam)"
   ]
  },
  {
   "cell_type": "code",
   "execution_count": 56,
   "metadata": {},
   "outputs": [
    {
     "output_type": "stream",
     "name": "stdout",
     "text": [
      "['Queen', 'quietly', 'beau', 'Queen', 'squeeze', 'Queen']\n"
     ]
    }
   ],
   "source": [
    "# 12 - 8\n",
    "import re\n",
    "list_mam = re.findall(r'\\w*[aeiou]{3}\\w*', mammoth)\n",
    "print(list_mam)"
   ]
  },
  {
   "cell_type": "code",
   "execution_count": 62,
   "metadata": {},
   "outputs": [],
   "source": [
    "# 13 - 1\n",
    "from datetime import date\n",
    "today = date.today()\n",
    "with open ('today.txt','w') as file:\n",
    "    file.write(str(today))\n"
   ]
  },
  {
   "cell_type": "code",
   "execution_count": 63,
   "metadata": {},
   "outputs": [
    {
     "output_type": "stream",
     "name": "stdout",
     "text": [
      "2020-11-05\n"
     ]
    }
   ],
   "source": [
    "# 13 - 2\n",
    "with open ('today.txt','r') as file:\n",
    "    today_string = file.read()\n",
    "print(today_string)"
   ]
  },
  {
   "cell_type": "code",
   "execution_count": 77,
   "metadata": {},
   "outputs": [
    {
     "output_type": "stream",
     "name": "stdout",
     "text": [
      "2020-11-05 00:00:00\n"
     ]
    }
   ],
   "source": [
    "# 13 - 3\n",
    "import datetime\n",
    "today_fmt = '%Y-%m-%d'\n",
    "today2 = datetime.datetime.strptime(today_string,today_fmt)\n",
    "print(today2)"
   ]
  },
  {
   "cell_type": "code",
   "execution_count": 80,
   "metadata": {},
   "outputs": [
    {
     "output_type": "stream",
     "name": "stdout",
     "text": [
      "1994-04-14\n"
     ]
    }
   ],
   "source": [
    "# 13 - 4\n",
    "from datetime import date\n",
    "birth = date(1994, 4, 14)\n",
    "print(birth)"
   ]
  },
  {
   "cell_type": "code",
   "execution_count": 84,
   "metadata": {},
   "outputs": [
    {
     "output_type": "stream",
     "name": "stdout",
     "text": [
      "I was born on a Thursday\n"
     ]
    }
   ],
   "source": [
    "# 13 - 5\n",
    "from datetime import time\n",
    "fmt = \"I was born on a %A\"\n",
    "print(birth.strftime(fmt))"
   ]
  },
  {
   "cell_type": "code",
   "execution_count": 87,
   "metadata": {},
   "outputs": [
    {
     "output_type": "stream",
     "name": "stdout",
     "text": [
      "2021-08-30\n"
     ]
    }
   ],
   "source": [
    "# 13 - 6\n",
    "from datetime import timedelta\n",
    "days = timedelta(days=10000)\n",
    "day = birth + days\n",
    "print(day)"
   ]
  },
  {
   "cell_type": "code",
   "execution_count": null,
   "metadata": {},
   "outputs": [],
   "source": []
  }
 ]
}